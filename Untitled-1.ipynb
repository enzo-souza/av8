{
 "cells": [
  {
   "cell_type": "markdown",
   "id": "fcf54625",
   "metadata": {},
   "source": [
    "só vamos usar os orbitais pz de combinação linear de orbitais atomicos que formam um orbital molecular.\n",
    "\n",
    "orbitais do hidrogenio não entram na historia\n"
   ]
  },
  {
   "cell_type": "code",
   "execution_count": null,
   "id": "d6c2706f",
   "metadata": {},
   "outputs": [
    {
     "name": "stdout",
     "output_type": "stream",
     "text": [
      "[0, -2.75, 0, 0, 0, 0, 0, 0, 0, -2.25]\n",
      "[-2.75, 0, -2.25, 0, 0, 0, 0, 0, 0, 0]\n",
      "[0, -2.75, 0, -2.75, 0, 0, 0, -2.25, 0, 0]\n",
      "[0, 0, -2.75, 0, -2.25, 0, 0, 0, 0, 0]\n",
      "[0, 0, 0, -2.75, 0, -2.75, 0, 0, 0, 0]\n",
      "[0, 0, 0, 0, -2.75, 0, -2.25, 0, 0, 0]\n",
      "[0, 0, 0, 0, 0, -2.75, 0, -2.75, 0, 0]\n",
      "[0, 0, -2.25, 0, 0, 0, -2.75, 0, -2.25, 0]\n",
      "[0, 0, 0, 0, 0, 0, 0, -2.75, 0, -2.75]\n",
      "[-2.25, 0, 0, 0, 0, 0, 0, 0, -2.75, 0]\n"
     ]
    }
   ],
   "source": [
    "#Matriz para o Naftaleno\n",
    "\n",
    "matriz = []\n",
    "n=10\n",
    "\n",
    "for i in range(0,n):\n",
    "    matriz.append([0]*n)\n",
    "\n",
    "for i in range(0,n):\n",
    "    for j in range(0,n):\n",
    "\n",
    "        if i==j:\n",
    "            matriz[i][j]=0\n",
    "            \n",
    "\n",
    "        elif i == ((j+1) % n): #diagonal secundaria superior\n",
    "            if ((j+1) % n)==0: #ligação simples\n",
    "                matriz[i][j]= 0.9*-2.5\n",
    "                \n",
    "\n",
    "            else: #ligação dupla\n",
    "                matriz[i][j]=1.1*-2.5\n",
    "                \n",
    "\n",
    "        elif ((i+1) % n) == j: #diagonal secundaria inferior\n",
    "            if ((i+1) % n)%2==0: #ligação simples\n",
    "                matriz[i][j]= 0.9*-2.5\n",
    "                \n",
    "            else:\n",
    "                matriz[i][j]=1.1*-2.5\n",
    "                \n",
    "\n",
    "        elif (i == 2 and j == 7) or (i == 7 and j == 2): #ligação simples\n",
    "            matriz[i][j]=0.9*-2.5\n",
    "        \n",
    "\n",
    "for linha in matriz:\n",
    "    print(linha)   "
   ]
  },
  {
   "cell_type": "code",
   "execution_count": 27,
   "id": "003fc028",
   "metadata": {},
   "outputs": [
    {
     "name": "stdout",
     "output_type": "stream",
     "text": [
      "[0, -2.75, 0, 0, 0, 0, 0, 0, 0, 0, 0, 0, 0, -2.25]\n",
      "[-2.75, 0, -2.25, 0, 0, 0, 0, 0, 0, 0, 0, 0, 0, 0]\n",
      "[0, -2.75, 0, -2.75, 0, 0, 0, -2.25, 0, 0, 0, 0, 0, 0]\n",
      "[0, 0, -2.75, 0, -2.25, 0, 0, 0, 0, 0, 0, 0, 0, 0]\n",
      "[0, 0, 0, -2.75, 0, -2.75, 0, 0, 0, 0, 0, 0, 0, 0]\n",
      "[0, 0, 0, 0, -2.75, 0, -2.25, 0, 0, 0, 0, 0, 0, 0]\n",
      "[0, 0, 0, 0, 0, -2.75, 0, -2.75, 0, 0, 0, 0, 0, 0]\n",
      "[0, 0, -2.25, 0, 0, 0, -2.75, 0, -2.25, 0, 0, 0, 0, 0]\n",
      "[0, 0, 0, 0, 0, 0, 0, -2.75, 0, -2.75, 0, 0, 0, 0]\n",
      "[0, 0, 0, 0, 0, 0, 0, 0, -2.75, 0, -2.25, 0, 0, 0]\n",
      "[0, 0, 0, 0, 0, 0, 0, 0, 0, -2.75, 0, -2.75, 0, 0]\n",
      "[0, 0, 0, 0, 0, 0, 0, 0, 0, 0, -2.75, 0, -2.25, 0]\n",
      "[0, 0, 0, 0, 0, 0, 0, 0, 0, 0, 0, -2.75, 0, -2.75]\n",
      "[-2.25, 0, 0, 0, 0, 0, 0, 0, 0, 0, 0, 0, -2.75, 0]\n"
     ]
    }
   ],
   "source": [
    "#Matriz para o Antraceno\n",
    "\n",
    "matriz = []\n",
    "n=14\n",
    "\n",
    "for i in range(0,n):\n",
    "    matriz.append([0]*n)\n",
    "\n",
    "for i in range(0,n):\n",
    "    for j in range(0,n):\n",
    "\n",
    "        if i==j:\n",
    "            matriz[i][j]=0\n",
    "            \n",
    "\n",
    "        elif i == ((j+1) % n): #diagonal secundaria superior\n",
    "            if ((j+1) % n)==0: #ligação simples\n",
    "                matriz[i][j]= 0.9*-2.5\n",
    "                \n",
    "\n",
    "            else: #ligação dupla\n",
    "                matriz[i][j]=1.1*-2.5\n",
    "                \n",
    "\n",
    "        elif ((i+1) % n) == j: #diagonal secundaria inferior\n",
    "            if ((i+1) % n)%2==0: #ligação simples\n",
    "                matriz[i][j]= 0.9*-2.5\n",
    "                \n",
    "            else:\n",
    "                matriz[i][j]=1.1*-2.5\n",
    "                \n",
    "\n",
    "        elif (i == 2 and j == 7) or (i == 7 and j == 2): #ligação simples\n",
    "            matriz[i][j]=0.9*-2.5\n",
    "        \n",
    "\n",
    "for linha in matriz:\n",
    "    print(linha)   "
   ]
  },
  {
   "cell_type": "code",
   "execution_count": null,
   "id": "377f8470",
   "metadata": {},
   "outputs": [],
   "source": []
  }
 ],
 "metadata": {
  "kernelspec": {
   "display_name": "Python 3",
   "language": "python",
   "name": "python3"
  },
  "language_info": {
   "codemirror_mode": {
    "name": "ipython",
    "version": 3
   },
   "file_extension": ".py",
   "mimetype": "text/x-python",
   "name": "python",
   "nbconvert_exporter": "python",
   "pygments_lexer": "ipython3",
   "version": "3.12.3"
  }
 },
 "nbformat": 4,
 "nbformat_minor": 5
}
